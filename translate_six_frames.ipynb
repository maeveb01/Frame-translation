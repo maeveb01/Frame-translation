{
 "cells": [
  {
   "cell_type": "markdown",
   "metadata": {},
   "source": [
    "Translation of a **dna** sequence into **protein** within all six reading frames"
   ]
  },
  {
   "cell_type": "code",
   "execution_count": 1,
   "metadata": {},
   "outputs": [],
   "source": [
    "# look-up table for translating codons into amino acids\n",
    "bases = ('T','C','A','G')\n",
    "codons = [a+b+c for a in bases for b in bases for c in bases]\n",
    "amino_acids = 'FFLLSSSSYY**CC*WLLLLPPPPHHQQRRRRIIIMTTTTNNKKSSRRVVVVAAAADDEEGGGG'\n",
    "codon_table = dict(zip(codons, amino_acids))"
   ]
  },
  {
   "cell_type": "code",
   "execution_count": 2,
   "metadata": {},
   "outputs": [],
   "source": [
    "def translate(sequence) :\n",
    "    # initialise string variable for protein\n",
    "    prot = ''\n",
    "\n",
    "    # process dna variable by cycling through each codon\n",
    "    for i in range(0, len(sequence)-2, 3) :\n",
    "        # extract codon\n",
    "        codon = sequence[i:i+3].upper()\n",
    "\n",
    "        # translate upper-case version of codon into amino acid with help of dictionary\n",
    "        # by retrieving the associated value from codon_table\n",
    "        aa = codon_table[codon]\n",
    "\n",
    "        # append amino acid to protein string\n",
    "        prot += aa\n",
    "\n",
    "    # return protein string at the end\n",
    "    return(prot)"
   ]
  },
  {
   "cell_type": "code",
   "execution_count": 3,
   "metadata": {},
   "outputs": [],
   "source": [
    "def reverse_complement(sequence) :\n",
    "    # look-up table for complement basepairs\n",
    "    complement = { 'a' : 't', \n",
    "                  'g' : 'c', \n",
    "                  'c' : 'g', \n",
    "                  't' : 'a' }\n",
    "\n",
    "    # initialise a new variable as an empty string to store the reverse complement\n",
    "    rev_comp = ''\n",
    "\n",
    "    # reverse the DNA sequence string and turn into lower case\n",
    "    seq_reverse = sequence.lower()[::-1]\n",
    "\n",
    "    # then go through each base and add the replacements (complements) to the new string\n",
    "    for letter in seq_reverse :\n",
    "        rev_comp += complement[letter]\n",
    "\n",
    "    return(rev_comp)    "
   ]
  },
  {
   "cell_type": "code",
   "execution_count": 4,
   "metadata": {},
   "outputs": [
    {
     "name": "stdout",
     "output_type": "stream",
     "text": [
      "read 291 bp sequence from test.seq\n"
     ]
    }
   ],
   "source": [
    "# MAIN PROGRAM:\n",
    "\n",
    "# read input sequence from file:\n",
    "file = 'test.seq'\n",
    "dna = ''\n",
    "fh = open(file, 'r')\n",
    "for line in fh :\n",
    "    if not line.startswith('>') :\n",
    "        dna += line.strip().upper()\n",
    "fh.close()\n",
    "\n",
    "print(f'read {len(dna)} bp sequence from {file}')"
   ]
  },
  {
   "cell_type": "code",
   "execution_count": 5,
   "metadata": {},
   "outputs": [
    {
     "name": "stdout",
     "output_type": "stream",
     "text": [
      "Frame 1:\n",
      "\n",
      "MGSAILSALLSRRSQRATTIIYHYARITTQRAHGLCDIIGPPITTLSASDDTTQRAHGLCDIIGPPITTLSASDDYYISLRTHHDAARTYYISLRTY\n",
      "\n",
      "Frame 2:\n",
      "\n",
      "WALRYYRPSYHDALSERRLLYITTHASRRSAHMGSAILSALLSRRSQRATTRRSAHMGSAILSALLSRRSQRATTIIYHYARITTQRAPIIYHYAR\n",
      "\n",
      "Frame 3:\n",
      "\n",
      "GLCDIIGPPITTLSASDDYYISLRTHHDAARTWALRYYRPSYHDALSERRHDAARTWALRYYRPSYHDALSERRLLYITTHASRRSAHLLYITTHV\n",
      "\n",
      "Frame 4:\n",
      "\n",
      "VRA**YIIGARCVVMRA**YIIVVAR*ERRDRRADNIAEPMCALRRVVAR*ERRDRRADNIAEPMCALRRDACVVIYNSRRSLRAS**EGR*YRRAH\n",
      "\n",
      "Frame 5:\n",
      "\n",
      "YVRSDI**VRAAS*CVRSDI**SSLAESVVIGGPIISQSPCARCVVSSLAESVVIGGPIISQSPCARCVVMRA**YIIVVAR*ERRDRRADNIAEP\n",
      "\n",
      "Frame 6:\n",
      "\n",
      "TCVVIYNRCALRRDACVVIYNSRRSLRAS**EGR*YRRAHVRAASCRRSLRAS**EGR*YRRAHVRAAS*CVRSDI**SSLAESVVIGGPIISQSP\n",
      "\n"
     ]
    }
   ],
   "source": [
    "# variable to keep track of frame number\n",
    "frame = 0\n",
    "\n",
    "# generate and print the three forward frames\n",
    "for i in range(3) :\n",
    "    # each frame is offset from the other by one nucleotide\n",
    "    # we simply move the starting index for our subset forward by one\n",
    "    # (or start at the beginning for the first loop)\n",
    "    seq = dna[i:]\n",
    "    prot = translate(seq)\n",
    "    frame += 1\n",
    "    print(f'Frame {frame}:\\n\\n{prot}\\n')\n",
    "    \n",
    "# generate the reverse complement sequence\n",
    "rev_comp = reverse_complement(dna)\n",
    "\n",
    "# generate and print the three remaining frames:\n",
    "for i in range(3) :\n",
    "    seq = rev_comp[i:]\n",
    "    prot = translate(seq)\n",
    "    frame += 1\n",
    "    print(f'Frame {frame}:\\n\\n{prot}\\n')"
   ]
  },
  {
   "cell_type": "code",
   "execution_count": null,
   "metadata": {},
   "outputs": [],
   "source": []
  }
 ],
 "metadata": {
  "kernelspec": {
   "display_name": "Python 3",
   "language": "python",
   "name": "python3"
  },
  "language_info": {
   "codemirror_mode": {
    "name": "ipython",
    "version": 3
   },
   "file_extension": ".py",
   "mimetype": "text/x-python",
   "name": "python",
   "nbconvert_exporter": "python",
   "pygments_lexer": "ipython3",
   "version": "3.6.9"
  }
 },
 "nbformat": 4,
 "nbformat_minor": 4
}
